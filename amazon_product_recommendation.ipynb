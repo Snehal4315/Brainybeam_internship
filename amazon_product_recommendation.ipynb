{
 "cells": [
  {
   "cell_type": "markdown",
   "id": "43a0f716-ef66-4e5a-b4cd-19b74c0ce281",
   "metadata": {
    "tags": []
   },
   "source": [
    "## Product recommendation system\n",
    "\n",
    "In this notebook i have made recommendation system using customer's reviews and rating. Have done some sentimental analysis on review columns then created new column which useful for recommendation."
   ]
  },
  {
   "cell_type": "markdown",
   "id": "a2a59307-d2b5-4f5e-aff2-0bac5fdf765b",
   "metadata": {},
   "source": [
    "#### Importing libraries"
   ]
  },
  {
   "cell_type": "code",
   "execution_count": 1,
   "id": "3cfe12ec-daec-43ba-9337-f04da432356c",
   "metadata": {},
   "outputs": [],
   "source": [
    "import pandas as pd\n",
    "import numpy as np\n",
    "import matplotlib.pyplot as plt\n",
    "import nltk\n",
    "import textblob\n",
    "%matplotlib inline"
   ]
  },
  {
   "cell_type": "code",
   "execution_count": 2,
   "id": "4ceb2acd-0db7-4bcb-9776-ad26e9871612",
   "metadata": {},
   "outputs": [],
   "source": [
    "amzn_df = pd.read_csv('D:/brainybeam/amazonReviews/amazon_product.csv', encoding='utf-8')"
   ]
  },
  {
   "cell_type": "code",
   "execution_count": 3,
   "id": "369cf875-6249-4557-86fe-23512ea1eab2",
   "metadata": {},
   "outputs": [
    {
     "data": {
      "text/html": [
       "<div>\n",
       "<style scoped>\n",
       "    .dataframe tbody tr th:only-of-type {\n",
       "        vertical-align: middle;\n",
       "    }\n",
       "\n",
       "    .dataframe tbody tr th {\n",
       "        vertical-align: top;\n",
       "    }\n",
       "\n",
       "    .dataframe thead th {\n",
       "        text-align: right;\n",
       "    }\n",
       "</style>\n",
       "<table border=\"1\" class=\"dataframe\">\n",
       "  <thead>\n",
       "    <tr style=\"text-align: right;\">\n",
       "      <th></th>\n",
       "      <th>asin</th>\n",
       "      <th>helpful</th>\n",
       "      <th>overall</th>\n",
       "      <th>reviewText</th>\n",
       "      <th>reviewTime</th>\n",
       "      <th>reviewerID</th>\n",
       "      <th>reviewerName</th>\n",
       "      <th>summary</th>\n",
       "      <th>unixReviewTime</th>\n",
       "      <th>categories</th>\n",
       "    </tr>\n",
       "  </thead>\n",
       "  <tbody>\n",
       "    <tr>\n",
       "      <th>0</th>\n",
       "      <td>B00004Y2UT</td>\n",
       "      <td>[0, 0]</td>\n",
       "      <td>5.0</td>\n",
       "      <td>amazon kindle is always the best ebook, upgrad...</td>\n",
       "      <td>07 6, 2008</td>\n",
       "      <td>A3M1PLEYNDEYO8</td>\n",
       "      <td>G. Thomas \"Tom\"</td>\n",
       "      <td>Great cable</td>\n",
       "      <td>1215302400</td>\n",
       "      <td>Computers,Electronics Features,Tablets,Electro...</td>\n",
       "    </tr>\n",
       "    <tr>\n",
       "      <th>1</th>\n",
       "      <td>B00004Y2UT</td>\n",
       "      <td>[6, 6]</td>\n",
       "      <td>5.0</td>\n",
       "      <td>If you really want to have a good read on some...</td>\n",
       "      <td>04 19, 2012</td>\n",
       "      <td>A2NYK9KWFMJV4Y</td>\n",
       "      <td>Mike Tarrani \"Jazz Drummer\"</td>\n",
       "      <td>One of the best instrument cables within the b...</td>\n",
       "      <td>1334793600</td>\n",
       "      <td>Computers,Electronics Features,Tablets,Electro...</td>\n",
       "    </tr>\n",
       "    <tr>\n",
       "      <th>2</th>\n",
       "      <td>B000068NSX</td>\n",
       "      <td>[3, 3]</td>\n",
       "      <td>5.0</td>\n",
       "      <td>Great product and service will refer to a frie...</td>\n",
       "      <td>03 18, 2013</td>\n",
       "      <td>A2EZWZ8MBEDOLN</td>\n",
       "      <td>Charlo</td>\n",
       "      <td>So far so good.  Will revisit at the 6 month m...</td>\n",
       "      <td>1363564800</td>\n",
       "      <td>Computers,Electronics Features,Tablets,Electro...</td>\n",
       "    </tr>\n",
       "    <tr>\n",
       "      <th>3</th>\n",
       "      <td>B000068NSX</td>\n",
       "      <td>[0, 0]</td>\n",
       "      <td>4.0</td>\n",
       "      <td>I was looking for a kindle whitepaper. I saw o...</td>\n",
       "      <td>03 16, 2012</td>\n",
       "      <td>A1GMWTGXW682GB</td>\n",
       "      <td>MetalFan</td>\n",
       "      <td>Cheap and cool looking, good length</td>\n",
       "      <td>1331856000</td>\n",
       "      <td>Computers,Electronics Features,Tablets,Electro...</td>\n",
       "    </tr>\n",
       "    <tr>\n",
       "      <th>4</th>\n",
       "      <td>B000068NVI</td>\n",
       "      <td>[0, 0]</td>\n",
       "      <td>5.0</td>\n",
       "      <td>My fianc√©e really enjoyes it! I would definit...</td>\n",
       "      <td>05 26, 2012</td>\n",
       "      <td>A1LQC225SE8UNI</td>\n",
       "      <td>David Burch</td>\n",
       "      <td>Does what it's supposed to do</td>\n",
       "      <td>1337990400</td>\n",
       "      <td>Computers,Electronics Features,Tablets,Electro...</td>\n",
       "    </tr>\n",
       "    <tr>\n",
       "      <th>...</th>\n",
       "      <td>...</td>\n",
       "      <td>...</td>\n",
       "      <td>...</td>\n",
       "      <td>...</td>\n",
       "      <td>...</td>\n",
       "      <td>...</td>\n",
       "      <td>...</td>\n",
       "      <td>...</td>\n",
       "      <td>...</td>\n",
       "      <td>...</td>\n",
       "    </tr>\n",
       "    <tr>\n",
       "      <th>2003</th>\n",
       "      <td>B000EELB8W</td>\n",
       "      <td>[1, 1]</td>\n",
       "      <td>5.0</td>\n",
       "      <td>Amazon keeps getting better. Tablet now has op...</td>\n",
       "      <td>12 26, 2011</td>\n",
       "      <td>A23AKO4BZLZ8DE</td>\n",
       "      <td>stefanj</td>\n",
       "      <td>Does what it says</td>\n",
       "      <td>1324857600</td>\n",
       "      <td>Computers/Tablets &amp; Networking,Tablets &amp; eBook...</td>\n",
       "    </tr>\n",
       "    <tr>\n",
       "      <th>2004</th>\n",
       "      <td>B000EELB8W</td>\n",
       "      <td>[0, 0]</td>\n",
       "      <td>5.0</td>\n",
       "      <td>This is not like other android tablets in a ba...</td>\n",
       "      <td>06 27, 2014</td>\n",
       "      <td>A3ITN3125FJETP</td>\n",
       "      <td>Tachyon</td>\n",
       "      <td>Polish that Axe</td>\n",
       "      <td>1403827200</td>\n",
       "      <td>Computers/Tablets &amp; Networking,Tablets &amp; eBook...</td>\n",
       "    </tr>\n",
       "    <tr>\n",
       "      <th>2005</th>\n",
       "      <td>B000EELB8W</td>\n",
       "      <td>[1, 1]</td>\n",
       "      <td>5.0</td>\n",
       "      <td>I love my Amazon Fire tablet it does exactly w...</td>\n",
       "      <td>04 16, 2012</td>\n",
       "      <td>AKAVVQMXSAIGX</td>\n",
       "      <td>Taoshaman</td>\n",
       "      <td>Does the job without damage</td>\n",
       "      <td>1334534400</td>\n",
       "      <td>Computers/Tablets &amp; Networking,Tablets &amp; eBook...</td>\n",
       "    </tr>\n",
       "    <tr>\n",
       "      <th>2006</th>\n",
       "      <td>B000EELB8W</td>\n",
       "      <td>[0, 0]</td>\n",
       "      <td>4.0</td>\n",
       "      <td>I bought the fire because I had heard it was a...</td>\n",
       "      <td>02 27, 2013</td>\n",
       "      <td>A3HKZSCGFU9T2A</td>\n",
       "      <td>Teagan Mago</td>\n",
       "      <td>It seems to work well</td>\n",
       "      <td>1361923200</td>\n",
       "      <td>Computers/Tablets &amp; Networking,Tablets &amp; eBook...</td>\n",
       "    </tr>\n",
       "    <tr>\n",
       "      <th>2007</th>\n",
       "      <td>B000EELB8W</td>\n",
       "      <td>[1, 1]</td>\n",
       "      <td>5.0</td>\n",
       "      <td>I bought Geek Squad for 2 years. Well after 13...</td>\n",
       "      <td>02 10, 2012</td>\n",
       "      <td>A2FAF1J19NO0ID</td>\n",
       "      <td>Timothy Eastman \"prez\"</td>\n",
       "      <td>Does it's job well.</td>\n",
       "      <td>1328832000</td>\n",
       "      <td>Computers/Tablets &amp; Networking,Tablets &amp; eBook...</td>\n",
       "    </tr>\n",
       "  </tbody>\n",
       "</table>\n",
       "<p>2008 rows × 10 columns</p>\n",
       "</div>"
      ],
      "text/plain": [
       "            asin helpful  overall  \\\n",
       "0     B00004Y2UT  [0, 0]      5.0   \n",
       "1     B00004Y2UT  [6, 6]      5.0   \n",
       "2     B000068NSX  [3, 3]      5.0   \n",
       "3     B000068NSX  [0, 0]      4.0   \n",
       "4     B000068NVI  [0, 0]      5.0   \n",
       "...          ...     ...      ...   \n",
       "2003  B000EELB8W  [1, 1]      5.0   \n",
       "2004  B000EELB8W  [0, 0]      5.0   \n",
       "2005  B000EELB8W  [1, 1]      5.0   \n",
       "2006  B000EELB8W  [0, 0]      4.0   \n",
       "2007  B000EELB8W  [1, 1]      5.0   \n",
       "\n",
       "                                             reviewText   reviewTime  \\\n",
       "0     amazon kindle is always the best ebook, upgrad...   07 6, 2008   \n",
       "1     If you really want to have a good read on some...  04 19, 2012   \n",
       "2     Great product and service will refer to a frie...  03 18, 2013   \n",
       "3     I was looking for a kindle whitepaper. I saw o...  03 16, 2012   \n",
       "4     My fianc√©e really enjoyes it! I would definit...  05 26, 2012   \n",
       "...                                                 ...          ...   \n",
       "2003  Amazon keeps getting better. Tablet now has op...  12 26, 2011   \n",
       "2004  This is not like other android tablets in a ba...  06 27, 2014   \n",
       "2005  I love my Amazon Fire tablet it does exactly w...  04 16, 2012   \n",
       "2006  I bought the fire because I had heard it was a...  02 27, 2013   \n",
       "2007  I bought Geek Squad for 2 years. Well after 13...  02 10, 2012   \n",
       "\n",
       "          reviewerID                 reviewerName  \\\n",
       "0     A3M1PLEYNDEYO8              G. Thomas \"Tom\"   \n",
       "1     A2NYK9KWFMJV4Y  Mike Tarrani \"Jazz Drummer\"   \n",
       "2     A2EZWZ8MBEDOLN                       Charlo   \n",
       "3     A1GMWTGXW682GB                     MetalFan   \n",
       "4     A1LQC225SE8UNI                  David Burch   \n",
       "...              ...                          ...   \n",
       "2003  A23AKO4BZLZ8DE                      stefanj   \n",
       "2004  A3ITN3125FJETP                      Tachyon   \n",
       "2005   AKAVVQMXSAIGX                    Taoshaman   \n",
       "2006  A3HKZSCGFU9T2A                  Teagan Mago   \n",
       "2007  A2FAF1J19NO0ID       Timothy Eastman \"prez\"   \n",
       "\n",
       "                                                summary  unixReviewTime  \\\n",
       "0                                           Great cable      1215302400   \n",
       "1     One of the best instrument cables within the b...      1334793600   \n",
       "2     So far so good.  Will revisit at the 6 month m...      1363564800   \n",
       "3                   Cheap and cool looking, good length      1331856000   \n",
       "4                         Does what it's supposed to do      1337990400   \n",
       "...                                                 ...             ...   \n",
       "2003                                  Does what it says      1324857600   \n",
       "2004                                    Polish that Axe      1403827200   \n",
       "2005                        Does the job without damage      1334534400   \n",
       "2006                              It seems to work well      1361923200   \n",
       "2007                                Does it's job well.      1328832000   \n",
       "\n",
       "                                             categories  \n",
       "0     Computers,Electronics Features,Tablets,Electro...  \n",
       "1     Computers,Electronics Features,Tablets,Electro...  \n",
       "2     Computers,Electronics Features,Tablets,Electro...  \n",
       "3     Computers,Electronics Features,Tablets,Electro...  \n",
       "4     Computers,Electronics Features,Tablets,Electro...  \n",
       "...                                                 ...  \n",
       "2003  Computers/Tablets & Networking,Tablets & eBook...  \n",
       "2004  Computers/Tablets & Networking,Tablets & eBook...  \n",
       "2005  Computers/Tablets & Networking,Tablets & eBook...  \n",
       "2006  Computers/Tablets & Networking,Tablets & eBook...  \n",
       "2007  Computers/Tablets & Networking,Tablets & eBook...  \n",
       "\n",
       "[2008 rows x 10 columns]"
      ]
     },
     "execution_count": 3,
     "metadata": {},
     "output_type": "execute_result"
    }
   ],
   "source": [
    "amzn_df"
   ]
  },
  {
   "cell_type": "code",
   "execution_count": 4,
   "id": "45917a0b-b323-48be-bae4-90332153174f",
   "metadata": {},
   "outputs": [
    {
     "data": {
      "text/plain": [
       "Index(['asin', 'helpful', 'overall', 'reviewText', 'reviewTime', 'reviewerID',\n",
       "       'reviewerName', 'summary', 'unixReviewTime', 'categories'],\n",
       "      dtype='object')"
      ]
     },
     "execution_count": 4,
     "metadata": {},
     "output_type": "execute_result"
    }
   ],
   "source": [
    "amzn_df.columns"
   ]
  },
  {
   "cell_type": "markdown",
   "id": "d40f6c16-a5de-4554-8144-5e483b2ca8d6",
   "metadata": {},
   "source": [
    "#### Droping columns\n",
    "Here droped some columns. In this columns some are useful for doing recommendation nicely. But this is basic idea of it. In this notebook i have used only ratings columns. so..,"
   ]
  },
  {
   "cell_type": "code",
   "execution_count": 5,
   "id": "d1aab5de-57eb-4f66-a716-5d2e5d92843c",
   "metadata": {},
   "outputs": [],
   "source": [
    "amzn_df2 = amzn_df.drop(['helpful','reviewTime','reviewerName','unixReviewTime','categories'],axis=1)"
   ]
  },
  {
   "cell_type": "code",
   "execution_count": 6,
   "id": "95ba3e07-28fa-4f0e-a8c5-e8187f18ba66",
   "metadata": {},
   "outputs": [
    {
     "data": {
      "text/html": [
       "<div>\n",
       "<style scoped>\n",
       "    .dataframe tbody tr th:only-of-type {\n",
       "        vertical-align: middle;\n",
       "    }\n",
       "\n",
       "    .dataframe tbody tr th {\n",
       "        vertical-align: top;\n",
       "    }\n",
       "\n",
       "    .dataframe thead th {\n",
       "        text-align: right;\n",
       "    }\n",
       "</style>\n",
       "<table border=\"1\" class=\"dataframe\">\n",
       "  <thead>\n",
       "    <tr style=\"text-align: right;\">\n",
       "      <th></th>\n",
       "      <th>asin</th>\n",
       "      <th>overall</th>\n",
       "      <th>reviewText</th>\n",
       "      <th>reviewerID</th>\n",
       "      <th>summary</th>\n",
       "    </tr>\n",
       "  </thead>\n",
       "  <tbody>\n",
       "    <tr>\n",
       "      <th>0</th>\n",
       "      <td>B00004Y2UT</td>\n",
       "      <td>5.0</td>\n",
       "      <td>amazon kindle is always the best ebook, upgrad...</td>\n",
       "      <td>A3M1PLEYNDEYO8</td>\n",
       "      <td>Great cable</td>\n",
       "    </tr>\n",
       "    <tr>\n",
       "      <th>1</th>\n",
       "      <td>B00004Y2UT</td>\n",
       "      <td>5.0</td>\n",
       "      <td>If you really want to have a good read on some...</td>\n",
       "      <td>A2NYK9KWFMJV4Y</td>\n",
       "      <td>One of the best instrument cables within the b...</td>\n",
       "    </tr>\n",
       "    <tr>\n",
       "      <th>2</th>\n",
       "      <td>B000068NSX</td>\n",
       "      <td>5.0</td>\n",
       "      <td>Great product and service will refer to a frie...</td>\n",
       "      <td>A2EZWZ8MBEDOLN</td>\n",
       "      <td>So far so good.  Will revisit at the 6 month m...</td>\n",
       "    </tr>\n",
       "    <tr>\n",
       "      <th>3</th>\n",
       "      <td>B000068NSX</td>\n",
       "      <td>4.0</td>\n",
       "      <td>I was looking for a kindle whitepaper. I saw o...</td>\n",
       "      <td>A1GMWTGXW682GB</td>\n",
       "      <td>Cheap and cool looking, good length</td>\n",
       "    </tr>\n",
       "    <tr>\n",
       "      <th>4</th>\n",
       "      <td>B000068NVI</td>\n",
       "      <td>5.0</td>\n",
       "      <td>My fianc√©e really enjoyes it! I would definit...</td>\n",
       "      <td>A1LQC225SE8UNI</td>\n",
       "      <td>Does what it's supposed to do</td>\n",
       "    </tr>\n",
       "    <tr>\n",
       "      <th>...</th>\n",
       "      <td>...</td>\n",
       "      <td>...</td>\n",
       "      <td>...</td>\n",
       "      <td>...</td>\n",
       "      <td>...</td>\n",
       "    </tr>\n",
       "    <tr>\n",
       "      <th>2003</th>\n",
       "      <td>B000EELB8W</td>\n",
       "      <td>5.0</td>\n",
       "      <td>Amazon keeps getting better. Tablet now has op...</td>\n",
       "      <td>A23AKO4BZLZ8DE</td>\n",
       "      <td>Does what it says</td>\n",
       "    </tr>\n",
       "    <tr>\n",
       "      <th>2004</th>\n",
       "      <td>B000EELB8W</td>\n",
       "      <td>5.0</td>\n",
       "      <td>This is not like other android tablets in a ba...</td>\n",
       "      <td>A3ITN3125FJETP</td>\n",
       "      <td>Polish that Axe</td>\n",
       "    </tr>\n",
       "    <tr>\n",
       "      <th>2005</th>\n",
       "      <td>B000EELB8W</td>\n",
       "      <td>5.0</td>\n",
       "      <td>I love my Amazon Fire tablet it does exactly w...</td>\n",
       "      <td>AKAVVQMXSAIGX</td>\n",
       "      <td>Does the job without damage</td>\n",
       "    </tr>\n",
       "    <tr>\n",
       "      <th>2006</th>\n",
       "      <td>B000EELB8W</td>\n",
       "      <td>4.0</td>\n",
       "      <td>I bought the fire because I had heard it was a...</td>\n",
       "      <td>A3HKZSCGFU9T2A</td>\n",
       "      <td>It seems to work well</td>\n",
       "    </tr>\n",
       "    <tr>\n",
       "      <th>2007</th>\n",
       "      <td>B000EELB8W</td>\n",
       "      <td>5.0</td>\n",
       "      <td>I bought Geek Squad for 2 years. Well after 13...</td>\n",
       "      <td>A2FAF1J19NO0ID</td>\n",
       "      <td>Does it's job well.</td>\n",
       "    </tr>\n",
       "  </tbody>\n",
       "</table>\n",
       "<p>2008 rows × 5 columns</p>\n",
       "</div>"
      ],
      "text/plain": [
       "            asin  overall                                         reviewText  \\\n",
       "0     B00004Y2UT      5.0  amazon kindle is always the best ebook, upgrad...   \n",
       "1     B00004Y2UT      5.0  If you really want to have a good read on some...   \n",
       "2     B000068NSX      5.0  Great product and service will refer to a frie...   \n",
       "3     B000068NSX      4.0  I was looking for a kindle whitepaper. I saw o...   \n",
       "4     B000068NVI      5.0  My fianc√©e really enjoyes it! I would definit...   \n",
       "...          ...      ...                                                ...   \n",
       "2003  B000EELB8W      5.0  Amazon keeps getting better. Tablet now has op...   \n",
       "2004  B000EELB8W      5.0  This is not like other android tablets in a ba...   \n",
       "2005  B000EELB8W      5.0  I love my Amazon Fire tablet it does exactly w...   \n",
       "2006  B000EELB8W      4.0  I bought the fire because I had heard it was a...   \n",
       "2007  B000EELB8W      5.0  I bought Geek Squad for 2 years. Well after 13...   \n",
       "\n",
       "          reviewerID                                            summary  \n",
       "0     A3M1PLEYNDEYO8                                        Great cable  \n",
       "1     A2NYK9KWFMJV4Y  One of the best instrument cables within the b...  \n",
       "2     A2EZWZ8MBEDOLN  So far so good.  Will revisit at the 6 month m...  \n",
       "3     A1GMWTGXW682GB                Cheap and cool looking, good length  \n",
       "4     A1LQC225SE8UNI                      Does what it's supposed to do  \n",
       "...              ...                                                ...  \n",
       "2003  A23AKO4BZLZ8DE                                  Does what it says  \n",
       "2004  A3ITN3125FJETP                                    Polish that Axe  \n",
       "2005   AKAVVQMXSAIGX                        Does the job without damage  \n",
       "2006  A3HKZSCGFU9T2A                              It seems to work well  \n",
       "2007  A2FAF1J19NO0ID                                Does it's job well.  \n",
       "\n",
       "[2008 rows x 5 columns]"
      ]
     },
     "execution_count": 6,
     "metadata": {},
     "output_type": "execute_result"
    }
   ],
   "source": [
    "amzn_df2"
   ]
  },
  {
   "cell_type": "markdown",
   "id": "b88c8e06-d189-46a0-b801-b464cef4601a",
   "metadata": {},
   "source": [
    "**Unnique values of product and customers**"
   ]
  },
  {
   "cell_type": "code",
   "execution_count": 7,
   "id": "bd5000f4-e806-4f5e-9950-65d186677ecb",
   "metadata": {},
   "outputs": [
    {
     "name": "stdout",
     "output_type": "stream",
     "text": [
      "Unique products:  218\n",
      "Unique reviewer:  847\n"
     ]
    }
   ],
   "source": [
    "print('Unique products: ',len(amzn_df2['asin'].unique()))\n",
    "print('Unique reviewer: ',len(amzn_df2['reviewerID'].unique()))"
   ]
  },
  {
   "cell_type": "markdown",
   "id": "6154847f-645f-41c0-b1c0-b9517980649a",
   "metadata": {},
   "source": [
    "**Columns information like data types, non-null values**"
   ]
  },
  {
   "cell_type": "code",
   "execution_count": 8,
   "id": "01e61ade-8f0c-44a2-8b0a-06fd687eda93",
   "metadata": {},
   "outputs": [
    {
     "name": "stdout",
     "output_type": "stream",
     "text": [
      "<class 'pandas.core.frame.DataFrame'>\n",
      "RangeIndex: 2008 entries, 0 to 2007\n",
      "Data columns (total 5 columns):\n",
      " #   Column      Non-Null Count  Dtype  \n",
      "---  ------      --------------  -----  \n",
      " 0   asin        2008 non-null   object \n",
      " 1   overall     2008 non-null   float64\n",
      " 2   reviewText  2008 non-null   object \n",
      " 3   reviewerID  2008 non-null   object \n",
      " 4   summary     2008 non-null   object \n",
      "dtypes: float64(1), object(4)\n",
      "memory usage: 78.6+ KB\n"
     ]
    }
   ],
   "source": [
    "amzn_df2.info()"
   ]
  },
  {
   "cell_type": "markdown",
   "id": "c59560bc-8214-4aa8-b829-1313fb39ea47",
   "metadata": {
    "tags": []
   },
   "source": [
    "#### Importing libraries which are useful for natural language processing."
   ]
  },
  {
   "cell_type": "code",
   "execution_count": 9,
   "id": "fb2460c2-6121-49c9-8a56-c079c9411bee",
   "metadata": {},
   "outputs": [],
   "source": [
    "from nltk.tokenize import word_tokenize\n",
    "from nltk.corpus import stopwords\n",
    "from nltk.stem import WordNetLemmatizer\n",
    "from textblob import TextBlob\n",
    "from nltk import pos_tag\n",
    "import string\n",
    "import json\n",
    "import re"
   ]
  },
  {
   "cell_type": "markdown",
   "id": "ecc0a00e-dad6-4930-a2ce-eabc279af510",
   "metadata": {},
   "source": [
    "Here function name `processedSent()` for preprocessing of review column.\n",
    "- Here we remove puctuations, stop words links and adding contraction and words inplace of emoji's which are useful for recommendation.\n",
    "- In stopwords there are some which are useful for this system for removing them and made `new_stop_words` list.\n",
    "- Tokenizeing sentences and then lemmatizing them."
   ]
  },
  {
   "cell_type": "code",
   "execution_count": 10,
   "id": "0863baf9-c20a-44ea-9eef-c3f13cb11b11",
   "metadata": {},
   "outputs": [],
   "source": [
    "def processedSent(text):\n",
    "    \n",
    "    puctuation = string.punctuation\n",
    "    \n",
    "    words = stopwords.words('English')\n",
    "    \n",
    "    remove_stopwords = ['but', 'if', 'or', 'because', 'until', 'against', 'before', 'after', 'from', 'up', 'down', \n",
    "                        'in', 'out', 'on', 'most', 'other', 'some', 'such', 'no', 'nor', 'not',\n",
    "                        'only', 'so', 'than', 'too', 'very','same']\n",
    "    \n",
    "    new_stop_words = [i for i in words if i not in remove_stopwords]\n",
    "    \n",
    "    positions = ['a', 'n', 'v', 'r', 's']\n",
    "    \n",
    "    lm = WordNetLemmatizer()\n",
    "    \n",
    "    #contraction\n",
    "    with open('D:/brainybeam/contractions.json', 'r') as f:\n",
    "        contractions_dict = json.load(f)\n",
    "    contractions = contractions_dict\n",
    "        \n",
    "    for i in text.split(' '):\n",
    "        if i in contractions:\n",
    "            text = text.replace(i, contractions[i].lower())\n",
    "    \n",
    "    text = text.lower()\n",
    "    text = re.sub('((www\\.[^\\s]+)|(https?://[^\\s]+))', ' ', text) #remove links\n",
    "    \n",
    "    text = re.sub(r\"\\d+\", \"\", str(text))                          #remove digits\n",
    "    \n",
    "    ##removing emoji's\n",
    "    # Smile -- :), : ), :-), (:, ( :, (-:, :') , :O\n",
    "    text = re.sub(r'(:\\s?\\)|:-\\)|\\(\\s?:|\\(-:|:\\'\\)|:O)', ' positiveemoji ', text)\n",
    "    \n",
    "    # Laugh -- :D, : D, :-D, xD, x-D, XD, X-D\n",
    "    text = re.sub(r'(:\\s?D|:-D|x-?D|X-?D)', ' positiveemoji ', text)\n",
    "    \n",
    "    # Love -- <3, :*\n",
    "    text = re.sub(r'(<3|:\\*)', ' positiveemoji ', text)\n",
    "    \n",
    "    # Wink -- ;-), ;), ;-D, ;D, (;,  (-; , @-)\n",
    "    text = re.sub(r'(;-?\\)|;-?D|\\(-?;|@-\\))', ' positiveemoji ', text)\n",
    "    \n",
    "    # Sad -- :-(, : (, :(, ):, )-:, :-/ , :-|\n",
    "    text = re.sub(r'(:\\s?\\(|:-\\(|\\)\\s?:|\\)-:|:-/|:-\\|)', ' negetiveemoji ', text)\n",
    "    \n",
    "    # Cry -- :,(, :'(, :\"(\n",
    "    text = re.sub(r'(:,\\(|:\\'\\(|:\"\\()', ' negetiveemoji ', text)\n",
    "    \n",
    "    text = re.sub(r'(<br />)', ' ', text)                         #remove <br> tag\n",
    "\n",
    "    text = re.sub(r\"\\s+\", \" \", str(text))                         #remove extra space\n",
    "    \n",
    "    \n",
    "            \n",
    "    #removing punctuations\n",
    "    prcs_text1 = []\n",
    "    for i in text:\n",
    "        if i not in puctuation:\n",
    "            prcs_text1.append(i)\n",
    "    prcs_text1 = ''.join(prcs_text1)\n",
    "            \n",
    "    #lemmatization\n",
    "    prcs_text2 = []\n",
    "    for token,tag in pos_tag(word_tokenize(prcs_text1)):\n",
    "        pos = tag[0].lower()\n",
    "        if pos not in positions:\n",
    "            pos = 'n'\n",
    "            \n",
    "        y = lm.lemmatize(token, pos)\n",
    "        prcs_text2.append(y)\n",
    "    \n",
    "    #removing stopwords    \n",
    "    prcs_text3 = []\n",
    "    for i in prcs_text2:\n",
    "        if i not in new_stop_words:\n",
    "            prcs_text3.append(i)\n",
    "\n",
    "    final_data = ' '.join(prcs_text3)\n",
    "\n",
    "    return final_data"
   ]
  },
  {
   "cell_type": "code",
   "execution_count": 11,
   "id": "526d0c34-ace4-4607-ba60-d7c6e5484834",
   "metadata": {},
   "outputs": [],
   "source": [
    "texts = amzn_df2['reviewText'].values"
   ]
  },
  {
   "cell_type": "code",
   "execution_count": 12,
   "id": "4e69870f-017b-4f51-abb7-7634f50abb3f",
   "metadata": {},
   "outputs": [],
   "source": [
    "amzn_df2['prcs_text'] = amzn_df2['reviewText'].apply(processedSent)"
   ]
  },
  {
   "cell_type": "markdown",
   "id": "2a6d8410-f71a-47a4-ad7f-dc5aaf9394b8",
   "metadata": {},
   "source": [
    "Here four function `sentiment`, `sentiment_type`, `new_score`, `typecast`\n",
    "- After preprocessing, usign **TextBlob** derive sentiment polarity.\n",
    "- Then giving them sentiment type if value is `<0 then negative`, `>0 then positive`, `else neutral`. \n",
    "- Then converting rating float to int.\n",
    "- Create updated score by multiplying rating and sentiment polarity.\n",
    "- Then giving new score."
   ]
  },
  {
   "cell_type": "code",
   "execution_count": 13,
   "id": "24cd56d2-346b-4b23-9905-1a73fb892f2f",
   "metadata": {},
   "outputs": [],
   "source": [
    "def sentiment(text):\n",
    "    try:\n",
    "        return TextBlob(str(text)).sentiment.polarity\n",
    "    except:\n",
    "        return None\n",
    "    \n",
    "def sentiment_type(sentiment):\n",
    "    if sentiment<0:\n",
    "        st = 'Negative'\n",
    "    elif sentiment>0:\n",
    "        st = 'Positive'\n",
    "    else:\n",
    "        st = 'Neutral'\n",
    "    return st\n",
    "\n",
    "def new_score(up_score):\n",
    "    if up_score<0:\n",
    "        new_score = 1\n",
    "    elif up_score>0 and up_score<=2:\n",
    "        new_score = 2\n",
    "    elif up_score>2 and up_score<=3:\n",
    "        new_score = 3\n",
    "    elif up_score>3 and up_score<=4:\n",
    "        new_score = 4\n",
    "    else:\n",
    "        new_score = 5\n",
    "    return new_score\n",
    "\n",
    "def typecast(x):\n",
    "    return int(x)"
   ]
  },
  {
   "cell_type": "code",
   "execution_count": 14,
   "id": "b52cb757-5262-4b29-8bdb-3d71cc51c75c",
   "metadata": {},
   "outputs": [],
   "source": [
    "amzn_df2['sentiment'] = amzn_df2['prcs_text'].apply(sentiment)\n",
    "amzn_df2['sentiment_type'] = amzn_df2['sentiment'].apply(sentiment_type)\n",
    "amzn_df2['overall_int'] = amzn_df2['overall'].apply(typecast)\n",
    "amzn_df2['updated_score'] = amzn_df2['sentiment'] * amzn_df2['overall_int']\n",
    "amzn_df2['new_score'] = amzn_df2['updated_score'].apply(new_score)"
   ]
  },
  {
   "cell_type": "code",
   "execution_count": 15,
   "id": "a98b1c13-f3e0-42f6-b76f-8b06d0cb142b",
   "metadata": {},
   "outputs": [
    {
     "data": {
      "text/html": [
       "<div>\n",
       "<style scoped>\n",
       "    .dataframe tbody tr th:only-of-type {\n",
       "        vertical-align: middle;\n",
       "    }\n",
       "\n",
       "    .dataframe tbody tr th {\n",
       "        vertical-align: top;\n",
       "    }\n",
       "\n",
       "    .dataframe thead th {\n",
       "        text-align: right;\n",
       "    }\n",
       "</style>\n",
       "<table border=\"1\" class=\"dataframe\">\n",
       "  <thead>\n",
       "    <tr style=\"text-align: right;\">\n",
       "      <th></th>\n",
       "      <th>asin</th>\n",
       "      <th>overall</th>\n",
       "      <th>reviewText</th>\n",
       "      <th>reviewerID</th>\n",
       "      <th>summary</th>\n",
       "      <th>prcs_text</th>\n",
       "      <th>sentiment</th>\n",
       "      <th>sentiment_type</th>\n",
       "      <th>overall_int</th>\n",
       "      <th>updated_score</th>\n",
       "      <th>new_score</th>\n",
       "    </tr>\n",
       "  </thead>\n",
       "  <tbody>\n",
       "    <tr>\n",
       "      <th>0</th>\n",
       "      <td>B00004Y2UT</td>\n",
       "      <td>5.0</td>\n",
       "      <td>amazon kindle is always the best ebook, upgrad...</td>\n",
       "      <td>A3M1PLEYNDEYO8</td>\n",
       "      <td>Great cable</td>\n",
       "      <td>amazon kindle always best ebook upgrade every ...</td>\n",
       "      <td>0.568182</td>\n",
       "      <td>Positive</td>\n",
       "      <td>5</td>\n",
       "      <td>2.840909</td>\n",
       "      <td>3</td>\n",
       "    </tr>\n",
       "    <tr>\n",
       "      <th>1</th>\n",
       "      <td>B00004Y2UT</td>\n",
       "      <td>5.0</td>\n",
       "      <td>If you really want to have a good read on some...</td>\n",
       "      <td>A2NYK9KWFMJV4Y</td>\n",
       "      <td>One of the best instrument cables within the b...</td>\n",
       "      <td>if really want good read on something digital ...</td>\n",
       "      <td>0.278611</td>\n",
       "      <td>Positive</td>\n",
       "      <td>5</td>\n",
       "      <td>1.393056</td>\n",
       "      <td>2</td>\n",
       "    </tr>\n",
       "    <tr>\n",
       "      <th>2</th>\n",
       "      <td>B000068NSX</td>\n",
       "      <td>5.0</td>\n",
       "      <td>Great product and service will refer to a frie...</td>\n",
       "      <td>A2EZWZ8MBEDOLN</td>\n",
       "      <td>So far so good.  Will revisit at the 6 month m...</td>\n",
       "      <td>great product service refer friend sale man r ...</td>\n",
       "      <td>0.750000</td>\n",
       "      <td>Positive</td>\n",
       "      <td>5</td>\n",
       "      <td>3.750000</td>\n",
       "      <td>4</td>\n",
       "    </tr>\n",
       "    <tr>\n",
       "      <th>3</th>\n",
       "      <td>B000068NSX</td>\n",
       "      <td>4.0</td>\n",
       "      <td>I was looking for a kindle whitepaper. I saw o...</td>\n",
       "      <td>A1GMWTGXW682GB</td>\n",
       "      <td>Cheap and cool looking, good length</td>\n",
       "      <td>look kindle whitepaper saw online deal order o...</td>\n",
       "      <td>0.233333</td>\n",
       "      <td>Positive</td>\n",
       "      <td>4</td>\n",
       "      <td>0.933333</td>\n",
       "      <td>2</td>\n",
       "    </tr>\n",
       "    <tr>\n",
       "      <th>4</th>\n",
       "      <td>B000068NVI</td>\n",
       "      <td>5.0</td>\n",
       "      <td>My fianc√©e really enjoyes it! I would definit...</td>\n",
       "      <td>A1LQC225SE8UNI</td>\n",
       "      <td>Does what it's supposed to do</td>\n",
       "      <td>fianc√©e really enjoy would definitely recommend</td>\n",
       "      <td>0.200000</td>\n",
       "      <td>Positive</td>\n",
       "      <td>5</td>\n",
       "      <td>1.000000</td>\n",
       "      <td>2</td>\n",
       "    </tr>\n",
       "  </tbody>\n",
       "</table>\n",
       "</div>"
      ],
      "text/plain": [
       "         asin  overall                                         reviewText  \\\n",
       "0  B00004Y2UT      5.0  amazon kindle is always the best ebook, upgrad...   \n",
       "1  B00004Y2UT      5.0  If you really want to have a good read on some...   \n",
       "2  B000068NSX      5.0  Great product and service will refer to a frie...   \n",
       "3  B000068NSX      4.0  I was looking for a kindle whitepaper. I saw o...   \n",
       "4  B000068NVI      5.0  My fianc√©e really enjoyes it! I would definit...   \n",
       "\n",
       "       reviewerID                                            summary  \\\n",
       "0  A3M1PLEYNDEYO8                                        Great cable   \n",
       "1  A2NYK9KWFMJV4Y  One of the best instrument cables within the b...   \n",
       "2  A2EZWZ8MBEDOLN  So far so good.  Will revisit at the 6 month m...   \n",
       "3  A1GMWTGXW682GB                Cheap and cool looking, good length   \n",
       "4  A1LQC225SE8UNI                      Does what it's supposed to do   \n",
       "\n",
       "                                           prcs_text  sentiment  \\\n",
       "0  amazon kindle always best ebook upgrade every ...   0.568182   \n",
       "1  if really want good read on something digital ...   0.278611   \n",
       "2  great product service refer friend sale man r ...   0.750000   \n",
       "3  look kindle whitepaper saw online deal order o...   0.233333   \n",
       "4   fianc√©e really enjoy would definitely recommend   0.200000   \n",
       "\n",
       "  sentiment_type  overall_int  updated_score  new_score  \n",
       "0       Positive            5       2.840909          3  \n",
       "1       Positive            5       1.393056          2  \n",
       "2       Positive            5       3.750000          4  \n",
       "3       Positive            4       0.933333          2  \n",
       "4       Positive            5       1.000000          2  "
      ]
     },
     "execution_count": 15,
     "metadata": {},
     "output_type": "execute_result"
    }
   ],
   "source": [
    "amzn_df2.head()"
   ]
  },
  {
   "cell_type": "markdown",
   "id": "1186bf66-cc01-4f05-8002-d7a46daedfa8",
   "metadata": {},
   "source": [
    "#### Data analysis"
   ]
  },
  {
   "cell_type": "code",
   "execution_count": 16,
   "id": "db908336-4dc7-4d14-872e-1fa6d88e039a",
   "metadata": {},
   "outputs": [],
   "source": [
    "pnn_review = amzn_df2['sentiment_type'].value_counts()"
   ]
  },
  {
   "cell_type": "code",
   "execution_count": 17,
   "id": "dc1714f8-35d4-4011-91c1-5134f62cd4ac",
   "metadata": {},
   "outputs": [
    {
     "data": {
      "image/png": "[encoded data removed]",
      "text/plain": [
       "<Figure size 432x288 with 1 Axes>"
      ]
     },
     "metadata": {},
     "output_type": "display_data"
    }
   ],
   "source": [
    "plt.pie(pnn_review, labels=pnn_review.index, autopct='%0.2f%%', shadow=True)\n",
    "plt.title('Pie chart of sentiment types')\n",
    "plt.show()"
   ]
  },
  {
   "cell_type": "code",
   "execution_count": 18,
   "id": "106d0dae-d626-40d5-816f-3b1258c35d72",
   "metadata": {},
   "outputs": [],
   "source": [
    "review_count = amzn_df2['overall_int'].value_counts()"
   ]
  },
  {
   "cell_type": "code",
   "execution_count": 19,
   "id": "1fd0f2bc-1208-4468-986a-db6ac90cc650",
   "metadata": {},
   "outputs": [],
   "source": [
    "new_score_count = amzn_df2['new_score'].value_counts()"
   ]
  },
  {
   "cell_type": "code",
   "execution_count": 20,
   "id": "35859a03-c1f1-449e-be7f-9ac17696efd5",
   "metadata": {},
   "outputs": [
    {
     "data": {
      "image/png": "[encoded data removed]",
      "text/plain": [
       "<Figure size 864x432 with 2 Axes>"
      ]
     },
     "metadata": {
      "needs_background": "light"
     },
     "output_type": "display_data"
    }
   ],
   "source": [
    "plt.figure(figsize=(12,6))\n",
    "plt.suptitle('Rating counts before new score and after it')\n",
    "\n",
    "plt.subplot(1,2,1)\n",
    "plt.bar(review_count.index, review_count, color='g')\n",
    "plt.title('Counts of ratings')\n",
    "plt.xlabel('Rating')\n",
    "plt.ylabel('count')\n",
    "\n",
    "plt.subplot(1,2,2)\n",
    "plt.bar(new_score_count.index, new_score_count, color='b')\n",
    "plt.title('Count of new score')\n",
    "plt.xlabel('New score')\n",
    "plt.ylabel('Count')\n",
    "plt.show()"
   ]
  },
  {
   "cell_type": "code",
   "execution_count": 21,
   "id": "46de3771-e46f-4f3e-b4de-6bb2eab40230",
   "metadata": {},
   "outputs": [],
   "source": [
    "review_id_count = amzn_df['reviewerID'].value_counts()[:10]"
   ]
  },
  {
   "cell_type": "code",
   "execution_count": 22,
   "id": "139c4b81-67a8-4658-a870-a718ec60d526",
   "metadata": {},
   "outputs": [
    {
     "data": {
      "image/png": "[encoded data removed]",
      "text/plain": [
       "<Figure size 432x288 with 1 Axes>"
      ]
     },
     "metadata": {
      "needs_background": "light"
     },
     "output_type": "display_data"
    }
   ],
   "source": [
    "plt.bar(review_id_count.index, review_id_count, color='c')\n",
    "plt.title('Top 10 users who gave highest number of reviews')\n",
    "plt.xlabel('Reviewer ID')\n",
    "plt.ylabel('count')\n",
    "plt.xticks(rotation=75)\n",
    "plt.show()"
   ]
  },
  {
   "cell_type": "code",
   "execution_count": 23,
   "id": "2daa7b1c-e750-42d2-9d9e-91153461f451",
   "metadata": {},
   "outputs": [],
   "source": [
    "product_count = amzn_df['asin'].value_counts()[:10]"
   ]
  },
  {
   "cell_type": "code",
   "execution_count": 24,
   "id": "acbb0b6a-9c07-46dd-b0ba-73a06a28db8f",
   "metadata": {},
   "outputs": [
    {
     "data": {
      "image/png": "[encoded data removed]",
      "text/plain": [
       "<Figure size 432x288 with 1 Axes>"
      ]
     },
     "metadata": {
      "needs_background": "light"
     },
     "output_type": "display_data"
    }
   ],
   "source": [
    "plt.bar(product_count.index, product_count, color='m')\n",
    "plt.title('Top 10 product id which has highest number of reviews')\n",
    "plt.xlabel('Product ID')\n",
    "plt.ylabel('count')\n",
    "plt.xticks(rotation=75)\n",
    "plt.show()"
   ]
  },
  {
   "cell_type": "code",
   "execution_count": 25,
   "id": "f2cb6fe8-30a5-462d-b310-3ffbfbdc8e96",
   "metadata": {},
   "outputs": [],
   "source": [
    "import wordcloud"
   ]
  },
  {
   "cell_type": "code",
   "execution_count": 26,
   "id": "e6b55278-0d13-489d-9274-8f827c1321b7",
   "metadata": {},
   "outputs": [],
   "source": [
    "wc = wordcloud.WordCloud(width=800, height=800, margin=3, max_words=300)\n",
    "wc1 = wc.generate(''.join(amzn_df2['prcs_text']))"
   ]
  },
  {
   "cell_type": "code",
   "execution_count": 27,
   "id": "e708ac8f-5c70-4cc3-b588-3453daa0b507",
   "metadata": {},
   "outputs": [
    {
     "data": {
      "image/png": "[encoded data removed]",
      "text/plain": [
       "<Figure size 432x288 with 1 Axes>"
      ]
     },
     "metadata": {
      "needs_background": "light"
     },
     "output_type": "display_data"
    }
   ],
   "source": [
    "plt.imshow(wc1)\n",
    "plt.axis('off')\n",
    "plt.tight_layout(pad=0)\n",
    "plt.show()"
   ]
  },
  {
   "cell_type": "markdown",
   "id": "3807e1f9-a8b9-4f36-83fc-dd0911b82ce8",
   "metadata": {
    "tags": []
   },
   "source": [
    "#### Labelencoding product id and customer id"
   ]
  },
  {
   "cell_type": "code",
   "execution_count": 28,
   "id": "c5fe92fb-eda4-45fa-98cc-e974774c81df",
   "metadata": {},
   "outputs": [],
   "source": [
    "from sklearn.preprocessing import LabelEncoder\n",
    "\n",
    "le = LabelEncoder()\n",
    "\n",
    "amzn_df2['le_productid'] = le.fit_transform(amzn_df2['asin'])\n",
    "amzn_df2['le_userid'] = le.fit_transform(amzn_df2['reviewerID'])"
   ]
  },
  {
   "cell_type": "markdown",
   "id": "c019253f-10af-4970-93bd-591d38f5fc5d",
   "metadata": {
    "tags": []
   },
   "source": [
    "#### Pivot table of product id, user id and new score"
   ]
  },
  {
   "cell_type": "code",
   "execution_count": 29,
   "id": "54eeb7c8-a438-4acd-b5f0-7a9abc022602",
   "metadata": {},
   "outputs": [],
   "source": [
    "amzn_df2_pivot = amzn_df2.pivot_table(index='asin', columns='le_userid', values='new_score').fillna(0)"
   ]
  },
  {
   "cell_type": "code",
   "execution_count": 30,
   "id": "18bb1983-3599-4404-b09a-c02296bbc76f",
   "metadata": {},
   "outputs": [
    {
     "data": {
      "text/html": [
       "<div>\n",
       "<style scoped>\n",
       "    .dataframe tbody tr th:only-of-type {\n",
       "        vertical-align: middle;\n",
       "    }\n",
       "\n",
       "    .dataframe tbody tr th {\n",
       "        vertical-align: top;\n",
       "    }\n",
       "\n",
       "    .dataframe thead th {\n",
       "        text-align: right;\n",
       "    }\n",
       "</style>\n",
       "<table border=\"1\" class=\"dataframe\">\n",
       "  <thead>\n",
       "    <tr style=\"text-align: right;\">\n",
       "      <th>le_userid</th>\n",
       "      <th>0</th>\n",
       "      <th>1</th>\n",
       "      <th>2</th>\n",
       "      <th>3</th>\n",
       "      <th>4</th>\n",
       "      <th>5</th>\n",
       "      <th>6</th>\n",
       "      <th>7</th>\n",
       "      <th>8</th>\n",
       "      <th>9</th>\n",
       "      <th>...</th>\n",
       "      <th>837</th>\n",
       "      <th>838</th>\n",
       "      <th>839</th>\n",
       "      <th>840</th>\n",
       "      <th>841</th>\n",
       "      <th>842</th>\n",
       "      <th>843</th>\n",
       "      <th>844</th>\n",
       "      <th>845</th>\n",
       "      <th>846</th>\n",
       "    </tr>\n",
       "    <tr>\n",
       "      <th>asin</th>\n",
       "      <th></th>\n",
       "      <th></th>\n",
       "      <th></th>\n",
       "      <th></th>\n",
       "      <th></th>\n",
       "      <th></th>\n",
       "      <th></th>\n",
       "      <th></th>\n",
       "      <th></th>\n",
       "      <th></th>\n",
       "      <th></th>\n",
       "      <th></th>\n",
       "      <th></th>\n",
       "      <th></th>\n",
       "      <th></th>\n",
       "      <th></th>\n",
       "      <th></th>\n",
       "      <th></th>\n",
       "      <th></th>\n",
       "      <th></th>\n",
       "      <th></th>\n",
       "    </tr>\n",
       "  </thead>\n",
       "  <tbody>\n",
       "    <tr>\n",
       "      <th>B00004Y2UT</th>\n",
       "      <td>0.0</td>\n",
       "      <td>0.0</td>\n",
       "      <td>0.0</td>\n",
       "      <td>0.0</td>\n",
       "      <td>0.0</td>\n",
       "      <td>0.0</td>\n",
       "      <td>0.0</td>\n",
       "      <td>0.0</td>\n",
       "      <td>0.0</td>\n",
       "      <td>0.0</td>\n",
       "      <td>...</td>\n",
       "      <td>0.0</td>\n",
       "      <td>0.0</td>\n",
       "      <td>0.0</td>\n",
       "      <td>0.0</td>\n",
       "      <td>0.0</td>\n",
       "      <td>0.0</td>\n",
       "      <td>0.0</td>\n",
       "      <td>0.0</td>\n",
       "      <td>0.0</td>\n",
       "      <td>0.0</td>\n",
       "    </tr>\n",
       "    <tr>\n",
       "      <th>B000068NSX</th>\n",
       "      <td>0.0</td>\n",
       "      <td>0.0</td>\n",
       "      <td>0.0</td>\n",
       "      <td>0.0</td>\n",
       "      <td>0.0</td>\n",
       "      <td>0.0</td>\n",
       "      <td>0.0</td>\n",
       "      <td>0.0</td>\n",
       "      <td>0.0</td>\n",
       "      <td>0.0</td>\n",
       "      <td>...</td>\n",
       "      <td>0.0</td>\n",
       "      <td>0.0</td>\n",
       "      <td>0.0</td>\n",
       "      <td>0.0</td>\n",
       "      <td>0.0</td>\n",
       "      <td>0.0</td>\n",
       "      <td>0.0</td>\n",
       "      <td>0.0</td>\n",
       "      <td>0.0</td>\n",
       "      <td>0.0</td>\n",
       "    </tr>\n",
       "    <tr>\n",
       "      <th>B000068NVI</th>\n",
       "      <td>0.0</td>\n",
       "      <td>0.0</td>\n",
       "      <td>0.0</td>\n",
       "      <td>0.0</td>\n",
       "      <td>0.0</td>\n",
       "      <td>0.0</td>\n",
       "      <td>0.0</td>\n",
       "      <td>0.0</td>\n",
       "      <td>0.0</td>\n",
       "      <td>0.0</td>\n",
       "      <td>...</td>\n",
       "      <td>0.0</td>\n",
       "      <td>0.0</td>\n",
       "      <td>0.0</td>\n",
       "      <td>0.0</td>\n",
       "      <td>0.0</td>\n",
       "      <td>0.0</td>\n",
       "      <td>0.0</td>\n",
       "      <td>0.0</td>\n",
       "      <td>0.0</td>\n",
       "      <td>0.0</td>\n",
       "    </tr>\n",
       "    <tr>\n",
       "      <th>B000068NW5</th>\n",
       "      <td>0.0</td>\n",
       "      <td>0.0</td>\n",
       "      <td>0.0</td>\n",
       "      <td>0.0</td>\n",
       "      <td>0.0</td>\n",
       "      <td>0.0</td>\n",
       "      <td>0.0</td>\n",
       "      <td>0.0</td>\n",
       "      <td>0.0</td>\n",
       "      <td>0.0</td>\n",
       "      <td>...</td>\n",
       "      <td>0.0</td>\n",
       "      <td>0.0</td>\n",
       "      <td>0.0</td>\n",
       "      <td>0.0</td>\n",
       "      <td>0.0</td>\n",
       "      <td>0.0</td>\n",
       "      <td>0.0</td>\n",
       "      <td>0.0</td>\n",
       "      <td>0.0</td>\n",
       "      <td>0.0</td>\n",
       "    </tr>\n",
       "    <tr>\n",
       "      <th>B000068NZG</th>\n",
       "      <td>0.0</td>\n",
       "      <td>0.0</td>\n",
       "      <td>0.0</td>\n",
       "      <td>0.0</td>\n",
       "      <td>0.0</td>\n",
       "      <td>0.0</td>\n",
       "      <td>0.0</td>\n",
       "      <td>0.0</td>\n",
       "      <td>0.0</td>\n",
       "      <td>0.0</td>\n",
       "      <td>...</td>\n",
       "      <td>0.0</td>\n",
       "      <td>0.0</td>\n",
       "      <td>0.0</td>\n",
       "      <td>0.0</td>\n",
       "      <td>0.0</td>\n",
       "      <td>0.0</td>\n",
       "      <td>0.0</td>\n",
       "      <td>0.0</td>\n",
       "      <td>0.0</td>\n",
       "      <td>0.0</td>\n",
       "    </tr>\n",
       "    <tr>\n",
       "      <th>...</th>\n",
       "      <td>...</td>\n",
       "      <td>...</td>\n",
       "      <td>...</td>\n",
       "      <td>...</td>\n",
       "      <td>...</td>\n",
       "      <td>...</td>\n",
       "      <td>...</td>\n",
       "      <td>...</td>\n",
       "      <td>...</td>\n",
       "      <td>...</td>\n",
       "      <td>...</td>\n",
       "      <td>...</td>\n",
       "      <td>...</td>\n",
       "      <td>...</td>\n",
       "      <td>...</td>\n",
       "      <td>...</td>\n",
       "      <td>...</td>\n",
       "      <td>...</td>\n",
       "      <td>...</td>\n",
       "      <td>...</td>\n",
       "      <td>...</td>\n",
       "    </tr>\n",
       "    <tr>\n",
       "      <th>B000KGYAYQ</th>\n",
       "      <td>0.0</td>\n",
       "      <td>0.0</td>\n",
       "      <td>0.0</td>\n",
       "      <td>0.0</td>\n",
       "      <td>0.0</td>\n",
       "      <td>0.0</td>\n",
       "      <td>0.0</td>\n",
       "      <td>0.0</td>\n",
       "      <td>0.0</td>\n",
       "      <td>0.0</td>\n",
       "      <td>...</td>\n",
       "      <td>0.0</td>\n",
       "      <td>0.0</td>\n",
       "      <td>0.0</td>\n",
       "      <td>0.0</td>\n",
       "      <td>0.0</td>\n",
       "      <td>0.0</td>\n",
       "      <td>0.0</td>\n",
       "      <td>0.0</td>\n",
       "      <td>0.0</td>\n",
       "      <td>0.0</td>\n",
       "    </tr>\n",
       "    <tr>\n",
       "      <th>B000KIPTE4</th>\n",
       "      <td>0.0</td>\n",
       "      <td>0.0</td>\n",
       "      <td>0.0</td>\n",
       "      <td>0.0</td>\n",
       "      <td>0.0</td>\n",
       "      <td>0.0</td>\n",
       "      <td>0.0</td>\n",
       "      <td>0.0</td>\n",
       "      <td>0.0</td>\n",
       "      <td>0.0</td>\n",
       "      <td>...</td>\n",
       "      <td>0.0</td>\n",
       "      <td>0.0</td>\n",
       "      <td>0.0</td>\n",
       "      <td>0.0</td>\n",
       "      <td>0.0</td>\n",
       "      <td>0.0</td>\n",
       "      <td>0.0</td>\n",
       "      <td>0.0</td>\n",
       "      <td>0.0</td>\n",
       "      <td>0.0</td>\n",
       "    </tr>\n",
       "    <tr>\n",
       "      <th>B000KIPUQG</th>\n",
       "      <td>0.0</td>\n",
       "      <td>0.0</td>\n",
       "      <td>0.0</td>\n",
       "      <td>0.0</td>\n",
       "      <td>0.0</td>\n",
       "      <td>0.0</td>\n",
       "      <td>0.0</td>\n",
       "      <td>0.0</td>\n",
       "      <td>0.0</td>\n",
       "      <td>0.0</td>\n",
       "      <td>...</td>\n",
       "      <td>0.0</td>\n",
       "      <td>0.0</td>\n",
       "      <td>0.0</td>\n",
       "      <td>0.0</td>\n",
       "      <td>0.0</td>\n",
       "      <td>0.0</td>\n",
       "      <td>0.0</td>\n",
       "      <td>0.0</td>\n",
       "      <td>0.0</td>\n",
       "      <td>0.0</td>\n",
       "    </tr>\n",
       "    <tr>\n",
       "      <th>B000KIRT74</th>\n",
       "      <td>0.0</td>\n",
       "      <td>0.0</td>\n",
       "      <td>0.0</td>\n",
       "      <td>0.0</td>\n",
       "      <td>0.0</td>\n",
       "      <td>0.0</td>\n",
       "      <td>0.0</td>\n",
       "      <td>0.0</td>\n",
       "      <td>0.0</td>\n",
       "      <td>0.0</td>\n",
       "      <td>...</td>\n",
       "      <td>0.0</td>\n",
       "      <td>0.0</td>\n",
       "      <td>0.0</td>\n",
       "      <td>0.0</td>\n",
       "      <td>0.0</td>\n",
       "      <td>0.0</td>\n",
       "      <td>0.0</td>\n",
       "      <td>0.0</td>\n",
       "      <td>0.0</td>\n",
       "      <td>0.0</td>\n",
       "    </tr>\n",
       "    <tr>\n",
       "      <th>B000KITQKM</th>\n",
       "      <td>0.0</td>\n",
       "      <td>0.0</td>\n",
       "      <td>0.0</td>\n",
       "      <td>0.0</td>\n",
       "      <td>0.0</td>\n",
       "      <td>0.0</td>\n",
       "      <td>0.0</td>\n",
       "      <td>0.0</td>\n",
       "      <td>0.0</td>\n",
       "      <td>0.0</td>\n",
       "      <td>...</td>\n",
       "      <td>0.0</td>\n",
       "      <td>0.0</td>\n",
       "      <td>0.0</td>\n",
       "      <td>0.0</td>\n",
       "      <td>0.0</td>\n",
       "      <td>0.0</td>\n",
       "      <td>0.0</td>\n",
       "      <td>0.0</td>\n",
       "      <td>0.0</td>\n",
       "      <td>0.0</td>\n",
       "    </tr>\n",
       "  </tbody>\n",
       "</table>\n",
       "<p>218 rows × 847 columns</p>\n",
       "</div>"
      ],
      "text/plain": [
       "le_userid   0    1    2    3    4    5    6    7    8    9    ...  837  838  \\\n",
       "asin                                                          ...             \n",
       "B00004Y2UT  0.0  0.0  0.0  0.0  0.0  0.0  0.0  0.0  0.0  0.0  ...  0.0  0.0   \n",
       "B000068NSX  0.0  0.0  0.0  0.0  0.0  0.0  0.0  0.0  0.0  0.0  ...  0.0  0.0   \n",
       "B000068NVI  0.0  0.0  0.0  0.0  0.0  0.0  0.0  0.0  0.0  0.0  ...  0.0  0.0   \n",
       "B000068NW5  0.0  0.0  0.0  0.0  0.0  0.0  0.0  0.0  0.0  0.0  ...  0.0  0.0   \n",
       "B000068NZG  0.0  0.0  0.0  0.0  0.0  0.0  0.0  0.0  0.0  0.0  ...  0.0  0.0   \n",
       "...         ...  ...  ...  ...  ...  ...  ...  ...  ...  ...  ...  ...  ...   \n",
       "B000KGYAYQ  0.0  0.0  0.0  0.0  0.0  0.0  0.0  0.0  0.0  0.0  ...  0.0  0.0   \n",
       "B000KIPTE4  0.0  0.0  0.0  0.0  0.0  0.0  0.0  0.0  0.0  0.0  ...  0.0  0.0   \n",
       "B000KIPUQG  0.0  0.0  0.0  0.0  0.0  0.0  0.0  0.0  0.0  0.0  ...  0.0  0.0   \n",
       "B000KIRT74  0.0  0.0  0.0  0.0  0.0  0.0  0.0  0.0  0.0  0.0  ...  0.0  0.0   \n",
       "B000KITQKM  0.0  0.0  0.0  0.0  0.0  0.0  0.0  0.0  0.0  0.0  ...  0.0  0.0   \n",
       "\n",
       "le_userid   839  840  841  842  843  844  845  846  \n",
       "asin                                                \n",
       "B00004Y2UT  0.0  0.0  0.0  0.0  0.0  0.0  0.0  0.0  \n",
       "B000068NSX  0.0  0.0  0.0  0.0  0.0  0.0  0.0  0.0  \n",
       "B000068NVI  0.0  0.0  0.0  0.0  0.0  0.0  0.0  0.0  \n",
       "B000068NW5  0.0  0.0  0.0  0.0  0.0  0.0  0.0  0.0  \n",
       "B000068NZG  0.0  0.0  0.0  0.0  0.0  0.0  0.0  0.0  \n",
       "...         ...  ...  ...  ...  ...  ...  ...  ...  \n",
       "B000KGYAYQ  0.0  0.0  0.0  0.0  0.0  0.0  0.0  0.0  \n",
       "B000KIPTE4  0.0  0.0  0.0  0.0  0.0  0.0  0.0  0.0  \n",
       "B000KIPUQG  0.0  0.0  0.0  0.0  0.0  0.0  0.0  0.0  \n",
       "B000KIRT74  0.0  0.0  0.0  0.0  0.0  0.0  0.0  0.0  \n",
       "B000KITQKM  0.0  0.0  0.0  0.0  0.0  0.0  0.0  0.0  \n",
       "\n",
       "[218 rows x 847 columns]"
      ]
     },
     "execution_count": 30,
     "metadata": {},
     "output_type": "execute_result"
    }
   ],
   "source": [
    "amzn_df2_pivot"
   ]
  },
  {
   "cell_type": "markdown",
   "id": "808721c9-a975-4289-86ef-353efcacdb38",
   "metadata": {
    "tags": []
   },
   "source": [
    "#### Making csr matrix from pivot table\n",
    "It will show which user give how much rating to any product."
   ]
  },
  {
   "cell_type": "code",
   "execution_count": 31,
   "id": "e9a2ceeb-9a77-4e12-8af5-87025a2f8038",
   "metadata": {},
   "outputs": [],
   "source": [
    "from scipy.sparse import csr_matrix\n",
    "\n",
    "amzn_df2_pivot_matrix = csr_matrix(amzn_df2_pivot.values)\n",
    "# amzn_df2_pivot_matrix"
   ]
  },
  {
   "cell_type": "markdown",
   "id": "b4eaf877-a283-4fe1-a2e2-785d46a6eb49",
   "metadata": {
    "tags": []
   },
   "source": [
    "#### Finding cosine similarity using pivot table"
   ]
  },
  {
   "cell_type": "code",
   "execution_count": 32,
   "id": "e53b1070-53fa-4a4f-903c-2f125d267181",
   "metadata": {},
   "outputs": [],
   "source": [
    "from sklearn.metrics.pairwise import cosine_similarity"
   ]
  },
  {
   "cell_type": "code",
   "execution_count": 33,
   "id": "1a744f42-b619-4552-bbd4-4159aa861928",
   "metadata": {},
   "outputs": [],
   "source": [
    "similarity_array = cosine_similarity(amzn_df2_pivot)"
   ]
  },
  {
   "cell_type": "code",
   "execution_count": 34,
   "id": "b5c5b855-4237-4387-8298-4deb81d9ddf0",
   "metadata": {},
   "outputs": [
    {
     "data": {
      "text/plain": [
       "(218, 218)"
      ]
     },
     "execution_count": 34,
     "metadata": {},
     "output_type": "execute_result"
    }
   ],
   "source": [
    "similarity_array.shape"
   ]
  },
  {
   "cell_type": "markdown",
   "id": "6cbb4c7d-e89d-40a8-a4cf-e9e471fb3a1c",
   "metadata": {
    "tags": []
   },
   "source": [
    "#### Defining NearestNeighbors model"
   ]
  },
  {
   "cell_type": "code",
   "execution_count": 35,
   "id": "bdd10b5d-9265-4059-8cf4-adb201ab673b",
   "metadata": {},
   "outputs": [],
   "source": [
    "from sklearn.neighbors import NearestNeighbors\n",
    "\n",
    "model_knn = NearestNeighbors(n_neighbors=10, radius=5, metric='cosine')"
   ]
  },
  {
   "cell_type": "markdown",
   "id": "b64f416d-2231-498c-a1db-59f7cb0baa2f",
   "metadata": {
    "tags": []
   },
   "source": [
    "#### Fitting model on  csr matrix"
   ]
  },
  {
   "cell_type": "code",
   "execution_count": 36,
   "id": "538eb721-9ae9-4656-977c-8d9a3edef642",
   "metadata": {},
   "outputs": [
    {
     "data": {
      "text/html": [
       "<style>#sk-container-id-1 {color: black;background-color: white;}#sk-container-id-1 pre{padding: 0;}#sk-container-id-1 div.sk-toggleable {background-color: white;}#sk-container-id-1 label.sk-toggleable__label {cursor: pointer;display: block;width: 100%;margin-bottom: 0;padding: 0.3em;box-sizing: border-box;text-align: center;}#sk-container-id-1 label.sk-toggleable__label-arrow:before {content: \"▸\";float: left;margin-right: 0.25em;color: #696969;}#sk-container-id-1 label.sk-toggleable__label-arrow:hover:before {color: black;}#sk-container-id-1 div.sk-estimator:hover label.sk-toggleable__label-arrow:before {color: black;}#sk-container-id-1 div.sk-toggleable__content {max-height: 0;max-width: 0;overflow: hidden;text-align: left;background-color: #f0f8ff;}#sk-container-id-1 div.sk-toggleable__content pre {margin: 0.2em;color: black;border-radius: 0.25em;background-color: #f0f8ff;}#sk-container-id-1 input.sk-toggleable__control:checked~div.sk-toggleable__content {max-height: 200px;max-width: 100%;overflow: auto;}#sk-container-id-1 input.sk-toggleable__control:checked~label.sk-toggleable__label-arrow:before {content: \"▾\";}#sk-container-id-1 div.sk-estimator input.sk-toggleable__control:checked~label.sk-toggleable__label {background-color: #d4ebff;}#sk-container-id-1 div.sk-label input.sk-toggleable__control:checked~label.sk-toggleable__label {background-color: #d4ebff;}#sk-container-id-1 input.sk-hidden--visually {border: 0;clip: rect(1px 1px 1px 1px);clip: rect(1px, 1px, 1px, 1px);height: 1px;margin: -1px;overflow: hidden;padding: 0;position: absolute;width: 1px;}#sk-container-id-1 div.sk-estimator {font-family: monospace;background-color: #f0f8ff;border: 1px dotted black;border-radius: 0.25em;box-sizing: border-box;margin-bottom: 0.5em;}#sk-container-id-1 div.sk-estimator:hover {background-color: #d4ebff;}#sk-container-id-1 div.sk-parallel-item::after {content: \"\";width: 100%;border-bottom: 1px solid gray;flex-grow: 1;}#sk-container-id-1 div.sk-label:hover label.sk-toggleable__label {background-color: #d4ebff;}#sk-container-id-1 div.sk-serial::before {content: \"\";position: absolute;border-left: 1px solid gray;box-sizing: border-box;top: 0;bottom: 0;left: 50%;z-index: 0;}#sk-container-id-1 div.sk-serial {display: flex;flex-direction: column;align-items: center;background-color: white;padding-right: 0.2em;padding-left: 0.2em;position: relative;}#sk-container-id-1 div.sk-item {position: relative;z-index: 1;}#sk-container-id-1 div.sk-parallel {display: flex;align-items: stretch;justify-content: center;background-color: white;position: relative;}#sk-container-id-1 div.sk-item::before, #sk-container-id-1 div.sk-parallel-item::before {content: \"\";position: absolute;border-left: 1px solid gray;box-sizing: border-box;top: 0;bottom: 0;left: 50%;z-index: -1;}#sk-container-id-1 div.sk-parallel-item {display: flex;flex-direction: column;z-index: 1;position: relative;background-color: white;}#sk-container-id-1 div.sk-parallel-item:first-child::after {align-self: flex-end;width: 50%;}#sk-container-id-1 div.sk-parallel-item:last-child::after {align-self: flex-start;width: 50%;}#sk-container-id-1 div.sk-parallel-item:only-child::after {width: 0;}#sk-container-id-1 div.sk-dashed-wrapped {border: 1px dashed gray;margin: 0 0.4em 0.5em 0.4em;box-sizing: border-box;padding-bottom: 0.4em;background-color: white;}#sk-container-id-1 div.sk-label label {font-family: monospace;font-weight: bold;display: inline-block;line-height: 1.2em;}#sk-container-id-1 div.sk-label-container {text-align: center;}#sk-container-id-1 div.sk-container {/* jupyter's `normalize.less` sets `[hidden] { display: none; }` but bootstrap.min.css set `[hidden] { display: none !important; }` so we also need the `!important` here to be able to override the default hidden behavior on the sphinx rendered scikit-learn.org. See: https://github.com/scikit-learn/scikit-learn/issues/21755 */display: inline-block !important;position: relative;}#sk-container-id-1 div.sk-text-repr-fallback {display: none;}</style><div id=\"sk-container-id-1\" class=\"sk-top-container\"><div class=\"sk-text-repr-fallback\"><pre>NearestNeighbors(metric=&#x27;cosine&#x27;, n_neighbors=10, radius=5)</pre><b>In a Jupyter environment, please rerun this cell to show the HTML representation or trust the notebook. <br />On GitHub, the HTML representation is unable to render, please try loading this page with nbviewer.org.</b></div><div class=\"sk-container\" hidden><div class=\"sk-item\"><div class=\"sk-estimator sk-toggleable\"><input class=\"sk-toggleable__control sk-hidden--visually\" id=\"sk-estimator-id-1\" type=\"checkbox\" checked><label for=\"sk-estimator-id-1\" class=\"sk-toggleable__label sk-toggleable__label-arrow\">NearestNeighbors</label><div class=\"sk-toggleable__content\"><pre>NearestNeighbors(metric=&#x27;cosine&#x27;, n_neighbors=10, radius=5)</pre></div></div></div></div></div>"
      ],
      "text/plain": [
       "NearestNeighbors(metric='cosine', n_neighbors=10, radius=5)"
      ]
     },
     "execution_count": 36,
     "metadata": {},
     "output_type": "execute_result"
    }
   ],
   "source": [
    "model_knn.fit(amzn_df2_pivot_matrix)"
   ]
  },
  {
   "cell_type": "markdown",
   "id": "fdf54a68-7d7a-4233-b369-c7fb0f5d38e3",
   "metadata": {
    "tags": []
   },
   "source": [
    "#### Final step for recommenadtion\n",
    "- here user give an input of product id (product name), then it will find nearest neighbors. \n",
    "- We can give as many nubers of neighbours as we want in `n_neighbors` argument."
   ]
  },
  {
   "cell_type": "code",
   "execution_count": 37,
   "id": "b289d656-73c1-450b-aacc-064af2e18ce9",
   "metadata": {},
   "outputs": [
    {
     "name": "stdin",
     "output_type": "stream",
     "text": [
      "Enter product id:  B00004Y2UT\n"
     ]
    },
    {
     "data": {
      "text/html": [
       "<div>\n",
       "<style scoped>\n",
       "    .dataframe tbody tr th:only-of-type {\n",
       "        vertical-align: middle;\n",
       "    }\n",
       "\n",
       "    .dataframe tbody tr th {\n",
       "        vertical-align: top;\n",
       "    }\n",
       "\n",
       "    .dataframe thead th {\n",
       "        text-align: right;\n",
       "    }\n",
       "</style>\n",
       "<table border=\"1\" class=\"dataframe\">\n",
       "  <thead>\n",
       "    <tr style=\"text-align: right;\">\n",
       "      <th></th>\n",
       "      <th>product_id</th>\n",
       "      <th>distance</th>\n",
       "    </tr>\n",
       "  </thead>\n",
       "  <tbody>\n",
       "    <tr>\n",
       "      <th>1</th>\n",
       "      <td>B0002E37MM</td>\n",
       "      <td>0.17</td>\n",
       "    </tr>\n",
       "    <tr>\n",
       "      <th>2</th>\n",
       "      <td>B0002F7IN0</td>\n",
       "      <td>0.17</td>\n",
       "    </tr>\n",
       "    <tr>\n",
       "      <th>3</th>\n",
       "      <td>B0002GXV2Q</td>\n",
       "      <td>0.31</td>\n",
       "    </tr>\n",
       "    <tr>\n",
       "      <th>4</th>\n",
       "      <td>B0006ZXG00</td>\n",
       "      <td>0.41</td>\n",
       "    </tr>\n",
       "    <tr>\n",
       "      <th>5</th>\n",
       "      <td>B0002E5518</td>\n",
       "      <td>0.45</td>\n",
       "    </tr>\n",
       "  </tbody>\n",
       "</table>\n",
       "</div>"
      ],
      "text/plain": [
       "   product_id  distance\n",
       "1  B0002E37MM      0.17\n",
       "2  B0002F7IN0      0.17\n",
       "3  B0002GXV2Q      0.31\n",
       "4  B0006ZXG00      0.41\n",
       "5  B0002E5518      0.45"
      ]
     },
     "execution_count": 37,
     "metadata": {},
     "output_type": "execute_result"
    }
   ],
   "source": [
    "product_ID = input('Enter product id: ')\n",
    "data = amzn_df2_pivot.index.to_list()\n",
    "# data\n",
    "\n",
    "query_index = data.index(product_ID)\n",
    "\n",
    "distance, indices = model_knn.kneighbors(amzn_df2_pivot.iloc[query_index,:].values.reshape(1,-1), n_neighbors=6)\n",
    "\n",
    "product_ids = amzn_df2_pivot.index[indices.flatten()]\n",
    "\n",
    "distance = distance.flatten()\n",
    "\n",
    "distance_new = []\n",
    "for i in distance:\n",
    "    x = round(i, ndigits=2)\n",
    "    distance_new.append(x)\n",
    "\n",
    "rcmnd_lst = list(zip(product_ids,distance_new))\n",
    "\n",
    "rcmd_df = pd.DataFrame(rcmnd_lst, columns=['product_id','distance'])\n",
    "rcmd_df[1:]"
   ]
  },
  {
   "cell_type": "markdown",
   "id": "daad9585-904f-407f-90e6-ce5a8e11180f",
   "metadata": {},
   "source": [
    "There is more work can be done in this system in future.."
   ]
  },
  {
   "cell_type": "code",
   "execution_count": null,
   "id": "1cd2800c-d368-45bf-84e9-10e1c8ad7c58",
   "metadata": {},
   "outputs": [],
   "source": []
  }
 ],
 "metadata": {
  "kernelspec": {
   "display_name": "Python 3 (ipykernel)",
   "language": "python",
   "name": "python3"
  },
  "language_info": {
   "codemirror_mode": {
    "name": "ipython",
    "version": 3
   },
   "file_extension": ".py",
   "mimetype": "text/x-python",
   "name": "python",
   "nbconvert_exporter": "python",
   "pygments_lexer": "ipython3",
   "version": "3.10.4"
  }
 },
 "nbformat": 4,
 "nbformat_minor": 5
}
